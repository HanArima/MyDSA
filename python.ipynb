{
 "cells": [
  {
   "cell_type": "markdown",
   "metadata": {},
   "source": [
    "# Python OneShot/Revision"
   ]
  },
  {
   "cell_type": "markdown",
   "metadata": {},
   "source": [
    "## Index\n",
    "\n",
    "1. Introduction + a little about strings\n",
    "2. Data Types\n",
    "3. Functions\n",
    "4. Loops and Conditionals\n",
    "5. Exceptions"
   ]
  },
  {
   "cell_type": "markdown",
   "metadata": {},
   "source": [
    "### 1. INTRODUCTION + A LIL ABOUT STRING"
   ]
  },
  {
   "cell_type": "markdown",
   "metadata": {},
   "source": [
    "- Function, return values\n",
    "- Bugs\n",
    "- Arguments\n",
    "- Side effects\n",
    "- Method chaining: If you want to call functions or method on same object instead of writing it seperatly you can chain the methods one after the other.\n",
    "\n",
    "- Methods vs Functions: Methods are built-in functions, while the functions by default is user-defined"
   ]
  },
  {
   "cell_type": "code",
   "execution_count": 9,
   "metadata": {},
   "outputs": [
    {
     "name": "stdout",
     "output_type": "stream",
     "text": [
      "Hello,  Garima Hansa\n",
      "Hello, Garima Hansa\n",
      "Hello,#Garima HansaNotNewLine The above function did not end in newline.\n"
     ]
    }
   ],
   "source": [
    "name = input(\"Enter your name:\").strip().title()\n",
    "\n",
    "# name = name.strip() \n",
    "# Removes whitespaces in the string\n",
    "\n",
    "print(\"Hello, \", name) #You will notice the extra space.\n",
    "print(f\"Hello, {name}\") #format string \n",
    "print(\"Hello,\", name, sep='#', end=\"NotNewLine\")\n",
    "print(\" The above function did not end in newline.\")\n",
    "# By default, sep is space and end is \\n which means that after executing the print statement, it ends in the new line and arguments are seperated by space.\n",
    "\n"
   ]
  },
  {
   "cell_type": "code",
   "execution_count": null,
   "metadata": {},
   "outputs": [
    {
     "name": "stdout",
     "output_type": "stream",
     "text": [
      "Hello, Graima\n"
     ]
    }
   ],
   "source": [
    "'''\n",
    "split method of the string\n",
    "Takes two arguments\n",
    "    1. maxsplit- tells you in how many substrings you must split. Default Value is -1.\n",
    "    2. sep- specifies the delimiter around which you wanna split. Default value is any white space.\n",
    "return a list of substring that you can later assign to individual variables using comma.\n",
    "'''\n",
    "name = input(\"Enter your name: \")\n",
    "\n",
    "fname, lname = name.split(\" \")\n",
    "\n",
    "print(f\"Hello, {fname}\")"
   ]
  },
  {
   "cell_type": "markdown",
   "metadata": {},
   "source": [
    "### 2. Data Types \n",
    "- String\n",
    "- Integer\n",
    "- float\n",
    "- bool\n",
    "- list (iterable)\n",
    "    - iterable is any object that is capable of returning its members one at a time.\n",
    "    - iterable is anything that can be looped over.\n",
    "    - list, string, tuples\n",
    "- dict: allows you to associate something with something. Allows you to associate keys with the value."
   ]
  },
  {
   "cell_type": "code",
   "execution_count": 24,
   "metadata": {},
   "outputs": [
    {
     "name": "stdout",
     "output_type": "stream",
     "text": [
      "18.831\n",
      "18.8309\n"
     ]
    }
   ],
   "source": [
    "# Rounding off the floazts\n",
    "\n",
    "# Way 1: Use Round Function\n",
    "\n",
    "x = 8.9756\n",
    "y = 9.8553\n",
    "z = round(x+y, 3)\n",
    "print(z)\n",
    "\n",
    "# Way 2: Format String \n",
    "\n",
    "x = 8.9756\n",
    "y = 9.8553\n",
    "z = y + x\n",
    "print(f\"{z:.4f}\")"
   ]
  },
  {
   "cell_type": "code",
   "execution_count": 34,
   "metadata": {},
   "outputs": [
    {
     "name": "stdout",
     "output_type": "stream",
     "text": [
      "[0, -2, -4, -6, -8]\n"
     ]
    },
    {
     "data": {
      "text/plain": [
       "range(0, -10, -2)"
      ]
     },
     "execution_count": 34,
     "metadata": {},
     "output_type": "execute_result"
    }
   ],
   "source": [
    "''' \n",
    "Range Function\n",
    "    class range(start, stop[, step])\n",
    "\n",
    "'''\n",
    "print(list(range(0,-10,-2)))\n",
    "range(0,-10, -2 )"
   ]
  },
  {
   "cell_type": "code",
   "execution_count": 42,
   "metadata": {},
   "outputs": [
    {
     "name": "stdout",
     "output_type": "stream",
     "text": [
      "Finlatics\n",
      "1:-Finlatics\n",
      "2:-Python and Data Science Interview Questions\n",
      "3:-Aptitude\n",
      "4:-Project Related Interview Questions\n"
     ]
    }
   ],
   "source": [
    "# dict\n",
    "\n",
    "notes = {\n",
    "    1 : \"Finlatics\",\n",
    "    2 : \"Python and Data Science Interview Questions\", \n",
    "    3 : \"Aptitude\",\n",
    "    4 : \"Project Related Interview Questions\"\n",
    "}\n",
    "\n",
    "print(notes[1])  # We insert the keys and not the index here.\n",
    "\n",
    "for section in notes:\n",
    "    print(section, notes[section], sep=\":-\")"
   ]
  },
  {
   "cell_type": "markdown",
   "metadata": {},
   "source": [
    "### 3. FUNCTIONS"
   ]
  },
  {
   "cell_type": "code",
   "execution_count": null,
   "metadata": {},
   "outputs": [
    {
     "name": "stdout",
     "output_type": "stream",
     "text": [
      "Hello,  Garima\n"
     ]
    }
   ],
   "source": [
    "def main():\n",
    "    name = input(\"Your Name...?\")\n",
    "    hello(name)\n",
    "\n",
    "def hello(to=\"world\"):\n",
    "    print(\"Hello,\", to)\n",
    "\n",
    "main()\n"
   ]
  },
  {
   "cell_type": "markdown",
   "metadata": {},
   "source": [
    "### 4. LOOPS AND CONDITIONALS\n",
    "\n",
    "- Conditional statements: if, elif, else, match-case\n",
    "- Loops: while, for"
   ]
  },
  {
   "cell_type": "code",
   "execution_count": 35,
   "metadata": {},
   "outputs": [
    {
     "name": "stdout",
     "output_type": "stream",
     "text": [
      "7\n"
     ]
    }
   ],
   "source": [
    "lis = [0,1,2,3,4,4,5]\n",
    "print(len(lis))"
   ]
  },
  {
   "cell_type": "code",
   "execution_count": 51,
   "metadata": {},
   "outputs": [
    {
     "name": "stdout",
     "output_type": "stream",
     "text": [
      "####\n",
      "####\n",
      "####\n",
      "####\n",
      "#####\n",
      "#####\n",
      "#####\n",
      "#####\n",
      "#####\n",
      "#######\n",
      "#######\n",
      "#######\n",
      "#######\n",
      "#######\n",
      "#######\n",
      "#######\n"
     ]
    }
   ],
   "source": [
    "def main():\n",
    "    print_block_way1(4)\n",
    "    print_block_way2(5)\n",
    "    print_block_way3(7)\n",
    "\n",
    "# Way 1\n",
    "def print_block_way1(size):\n",
    "    for i in range(size):\n",
    "        for j in range(size):\n",
    "            print(\"#\", sep=\"\", end=\"\")\n",
    "        print()\n",
    "\n",
    "# Way 2\n",
    "def print_block_way2(size):\n",
    "    for i in range(size):\n",
    "        print(\"#\" * size)\n",
    "\n",
    "# Way 3\n",
    "def print_block_way3(size):\n",
    "    for i in range(size):\n",
    "        print_row(size)\n",
    "\n",
    "def print_row(size):\n",
    "    print(\"#\"*size)\n",
    "main()"
   ]
  },
  {
   "cell_type": "markdown",
   "metadata": {},
   "source": [
    "### 5. EXCEPTIONS"
   ]
  },
  {
   "cell_type": "markdown",
   "metadata": {},
   "source": [
    "- In Try and Except, we must always know what the error is in order to handle it correctly. It all falls down to the anticipation of what errors you might face and then deal with it accordingly.\n",
    "- In try and except, the scope thingy doesn't work. \n",
    "- **pass** keywoed used to catch the exception but choosing not to do anything about it.\n",
    "- Types of Errors:\n",
    "    - SyntaxError: You gotta go back and solve this error. It is a mannual error that needs to be looked at.\n",
    "    - ValueError: The error is because of the value entered was not expected or in the correct format.\n",
    "    - NameError: The variable you are using is either not defined or used out of scope."
   ]
  },
  {
   "cell_type": "code",
   "execution_count": 62,
   "metadata": {},
   "outputs": [
    {
     "name": "stdout",
     "output_type": "stream",
     "text": [
      "The value of x is not an integer.\n",
      "The value of x is not an integer.\n",
      "The value of x is not an integer.\n",
      "x is 3\n"
     ]
    }
   ],
   "source": [
    "while True:\n",
    "    try: \n",
    "        x = int(input(\"Enter x:\"))\n",
    "    except ValueError:\n",
    "        print(\"The value of x is not an integer.\")\n",
    "    else:\n",
    "        break\n",
    "    \n",
    "print(f\"x is {x}\")"
   ]
  },
  {
   "cell_type": "code",
   "execution_count": null,
   "metadata": {},
   "outputs": [],
   "source": []
  }
 ],
 "metadata": {
  "kernelspec": {
   "display_name": "Python 3",
   "language": "python",
   "name": "python3"
  },
  "language_info": {
   "codemirror_mode": {
    "name": "ipython",
    "version": 3
   },
   "file_extension": ".py",
   "mimetype": "text/x-python",
   "name": "python",
   "nbconvert_exporter": "python",
   "pygments_lexer": "ipython3",
   "version": "3.10.11"
  }
 },
 "nbformat": 4,
 "nbformat_minor": 2
}
