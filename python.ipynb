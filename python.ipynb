{
 "cells": [
  {
   "cell_type": "markdown",
   "metadata": {},
   "source": [
    "# Python OneShot/Revision"
   ]
  },
  {
   "cell_type": "markdown",
   "metadata": {},
   "source": [
    "- Function, return values\n",
    "- Bugs\n",
    "- Arguments\n",
    "- Side effects\n",
    "- Method chaining: If you want to call functions or method on same object instead of writing it seperatly you can chain the methods one after the other.\n",
    "\n",
    "- Methods vs Functions: Methods are built-in functions, while the functions by default is user-defined"
   ]
  },
  {
   "cell_type": "code",
   "execution_count": 9,
   "metadata": {},
   "outputs": [
    {
     "name": "stdout",
     "output_type": "stream",
     "text": [
      "Hello,  Garima Hansa\n",
      "Hello, Garima Hansa\n",
      "Hello,#Garima HansaNotNewLine The above function did not end in newline.\n"
     ]
    }
   ],
   "source": [
    "name = input(\"Enter your name:\").strip().title()\n",
    "\n",
    "# name = name.strip() \n",
    "# Removes whitespaces in the string\n",
    "\n",
    "print(\"Hello, \", name) #You will notice the extra space.\n",
    "print(f\"Hello, {name}\") #format string \n",
    "print(\"Hello,\", name, sep='#', end=\"NotNewLine\")\n",
    "print(\" The above function did not end in newline.\")\n",
    "# By default, sep is space and end is \\n which means that after executing the print statement, it ends in the new line and arguments are seperated by space.\n",
    "\n"
   ]
  },
  {
   "cell_type": "code",
   "execution_count": null,
   "metadata": {},
   "outputs": [
    {
     "name": "stdout",
     "output_type": "stream",
     "text": [
      "Hello, Graima\n"
     ]
    }
   ],
   "source": [
    "'''\n",
    "split method of the string\n",
    "Takes two arguments\n",
    "    1. maxsplit- tells you in how many substrings you must split. Default Value is -1.\n",
    "    2. sep- specifies the delimiter around which you wanna split. Default value is any white space.\n",
    "return a list of substring that you can later assign to individual variables using comma.\n",
    "'''\n",
    "name = input(\"Enter your name: \")\n",
    "\n",
    "fname, lname = name.split(\" \")\n",
    "\n",
    "print(f\"Hello, {fname}\")"
   ]
  },
  {
   "cell_type": "markdown",
   "metadata": {},
   "source": [
    "#### Data Types \n",
    "- String\n",
    "- Integer"
   ]
  },
  {
   "cell_type": "markdown",
   "metadata": {},
   "source": []
  }
 ],
 "metadata": {
  "kernelspec": {
   "display_name": "Python 3",
   "language": "python",
   "name": "python3"
  },
  "language_info": {
   "codemirror_mode": {
    "name": "ipython",
    "version": 3
   },
   "file_extension": ".py",
   "mimetype": "text/x-python",
   "name": "python",
   "nbconvert_exporter": "python",
   "pygments_lexer": "ipython3",
   "version": "3.10.11"
  }
 },
 "nbformat": 4,
 "nbformat_minor": 2
}
