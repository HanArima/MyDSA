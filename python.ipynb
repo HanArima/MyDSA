{
 "cells": [
  {
   "cell_type": "markdown",
   "metadata": {},
   "source": [
    "# Python OneShot/Revision"
   ]
  },
  {
   "cell_type": "markdown",
   "metadata": {},
   "source": [
    "## Index\n",
    "\n",
    "1. Introduction + a little about strings\n",
    "2. Data Types\n",
    "3. Functions\n",
    "4. Loops and Conditionals\n",
    "5. Exceptions\n",
    "6. Some Imp Libraries\n",
    "7. Unit Tests\n",
    "8. File I/O: To be done later.\n",
    "9. Regular Expressions"
   ]
  },
  {
   "cell_type": "markdown",
   "metadata": {},
   "source": [
    "### 1. INTRODUCTION + A LIL ABOUT STRING"
   ]
  },
  {
   "cell_type": "markdown",
   "metadata": {},
   "source": [
    "- Function, return values\n",
    "- Bugs\n",
    "- Arguments\n",
    "- Side effects\n",
    "- Method chaining: If you want to call functions or method on same object instead of writing it seperatly you can chain the methods one after the other.\n",
    "\n",
    "- Methods vs Functions: Methods are built-in functions, while the functions by default is user-defined"
   ]
  },
  {
   "cell_type": "code",
   "execution_count": 9,
   "metadata": {},
   "outputs": [
    {
     "name": "stdout",
     "output_type": "stream",
     "text": [
      "Hello,  Garima Hansa\n",
      "Hello, Garima Hansa\n",
      "Hello,#Garima HansaNotNewLine The above function did not end in newline.\n"
     ]
    }
   ],
   "source": [
    "name = input(\"Enter your name:\").strip().title()\n",
    "\n",
    "# name = name.strip() \n",
    "# Removes whitespaces in the string\n",
    "\n",
    "print(\"Hello, \", name) #You will notice the extra space.\n",
    "print(f\"Hello, {name}\") #format string \n",
    "print(\"Hello,\", name, sep='#', end=\"NotNewLine\")\n",
    "print(\" The above function did not end in newline.\")\n",
    "# By default, sep is space and end is \\n which means that after executing the print statement, it ends in the new line and arguments are seperated by space.\n",
    "\n"
   ]
  },
  {
   "cell_type": "code",
   "execution_count": null,
   "metadata": {},
   "outputs": [
    {
     "name": "stdout",
     "output_type": "stream",
     "text": [
      "Hello, Graima\n"
     ]
    }
   ],
   "source": [
    "'''\n",
    "split method of the string\n",
    "Takes two arguments\n",
    "    1. maxsplit- tells you in how many substrings you must split. Default Value is -1.\n",
    "    2. sep- specifies the delimiter around which you wanna split. Default value is any white space.\n",
    "return a list of substring that you can later assign to individual variables using comma.\n",
    "'''\n",
    "name = input(\"Enter your name: \")\n",
    "\n",
    "fname, lname = name.split(\" \")\n",
    "\n",
    "print(f\"Hello, {fname}\")"
   ]
  },
  {
   "cell_type": "markdown",
   "metadata": {},
   "source": [
    "### 2. Data Types \n",
    "- String\n",
    "- Integer\n",
    "- float\n",
    "- bool\n",
    "- list (iterable)\n",
    "    - iterable is any object that is capable of returning its members one at a time.\n",
    "    - iterable is anything that can be looped over.\n",
    "    - list, string, tuples\n",
    "- dict: allows you to associate something with something. Allows you to associate keys with the value."
   ]
  },
  {
   "cell_type": "code",
   "execution_count": 24,
   "metadata": {},
   "outputs": [
    {
     "name": "stdout",
     "output_type": "stream",
     "text": [
      "18.831\n",
      "18.8309\n"
     ]
    }
   ],
   "source": [
    "# Rounding off the floazts\n",
    "\n",
    "# Way 1: Use Round Function\n",
    "\n",
    "x = 8.9756\n",
    "y = 9.8553\n",
    "z = round(x+y, 3)\n",
    "print(z)\n",
    "\n",
    "# Way 2: Format String \n",
    "\n",
    "x = 8.9756\n",
    "y = 9.8553\n",
    "z = y + x\n",
    "print(f\"{z:.4f}\")"
   ]
  },
  {
   "cell_type": "code",
   "execution_count": 34,
   "metadata": {},
   "outputs": [
    {
     "name": "stdout",
     "output_type": "stream",
     "text": [
      "[0, -2, -4, -6, -8]\n"
     ]
    },
    {
     "data": {
      "text/plain": [
       "range(0, -10, -2)"
      ]
     },
     "execution_count": 34,
     "metadata": {},
     "output_type": "execute_result"
    }
   ],
   "source": [
    "''' \n",
    "Range Function\n",
    "    class range(start, stop[, step])\n",
    "\n",
    "'''\n",
    "print(list(range(0,-10,-2)))\n",
    "range(0,-10, -2 )"
   ]
  },
  {
   "cell_type": "code",
   "execution_count": 42,
   "metadata": {},
   "outputs": [
    {
     "name": "stdout",
     "output_type": "stream",
     "text": [
      "Finlatics\n",
      "1:-Finlatics\n",
      "2:-Python and Data Science Interview Questions\n",
      "3:-Aptitude\n",
      "4:-Project Related Interview Questions\n"
     ]
    }
   ],
   "source": [
    "# dict\n",
    "\n",
    "notes = {\n",
    "    1 : \"Finlatics\",\n",
    "    2 : \"Python and Data Science Interview Questions\", \n",
    "    3 : \"Aptitude\",\n",
    "    4 : \"Project Related Interview Questions\"\n",
    "}\n",
    "\n",
    "print(notes[1])  # We insert the keys and not the index here.\n",
    "\n",
    "for section in notes:\n",
    "    print(section, notes[section], sep=\":-\")"
   ]
  },
  {
   "cell_type": "markdown",
   "metadata": {},
   "source": [
    "### 3. FUNCTIONS"
   ]
  },
  {
   "cell_type": "code",
   "execution_count": null,
   "metadata": {},
   "outputs": [
    {
     "name": "stdout",
     "output_type": "stream",
     "text": [
      "Hello,  Garima\n"
     ]
    }
   ],
   "source": [
    "def main():\n",
    "    name = input(\"Your Name...?\")\n",
    "    hello(name)\n",
    "\n",
    "def hello(to=\"world\"):\n",
    "    print(\"Hello,\", to)\n",
    "\n",
    "main()\n"
   ]
  },
  {
   "cell_type": "markdown",
   "metadata": {},
   "source": [
    "### 4. LOOPS AND CONDITIONALS\n",
    "\n",
    "- Conditional statements: if, elif, else, match-case\n",
    "- Loops: while, for"
   ]
  },
  {
   "cell_type": "code",
   "execution_count": 35,
   "metadata": {},
   "outputs": [
    {
     "name": "stdout",
     "output_type": "stream",
     "text": [
      "7\n"
     ]
    }
   ],
   "source": [
    "lis = [0,1,2,3,4,4,5]\n",
    "print(len(lis))"
   ]
  },
  {
   "cell_type": "code",
   "execution_count": 51,
   "metadata": {},
   "outputs": [
    {
     "name": "stdout",
     "output_type": "stream",
     "text": [
      "####\n",
      "####\n",
      "####\n",
      "####\n",
      "#####\n",
      "#####\n",
      "#####\n",
      "#####\n",
      "#####\n",
      "#######\n",
      "#######\n",
      "#######\n",
      "#######\n",
      "#######\n",
      "#######\n",
      "#######\n"
     ]
    }
   ],
   "source": [
    "def main():\n",
    "    print_block_way1(4)\n",
    "    print_block_way2(5)\n",
    "    print_block_way3(7)\n",
    "\n",
    "# Way 1\n",
    "def print_block_way1(size):\n",
    "    for i in range(size):\n",
    "        for j in range(size):\n",
    "            print(\"#\", sep=\"\", end=\"\")\n",
    "        print()\n",
    "\n",
    "# Way 2\n",
    "def print_block_way2(size):\n",
    "    for i in range(size):\n",
    "        print(\"#\" * size)\n",
    "\n",
    "# Way 3\n",
    "def print_block_way3(size):\n",
    "    for i in range(size):\n",
    "        print_row(size)\n",
    "\n",
    "def print_row(size):\n",
    "    print(\"#\"*size)\n",
    "main()"
   ]
  },
  {
   "cell_type": "markdown",
   "metadata": {},
   "source": [
    "### 5. EXCEPTIONS"
   ]
  },
  {
   "cell_type": "markdown",
   "metadata": {},
   "source": [
    "- In Try and Except, we must always know what the error is in order to handle it correctly. It all falls down to the anticipation of what errors you might face and then deal with it accordingly.\n",
    "- In try and except, the scope thingy doesn't work. \n",
    "- **pass** keywoed used to catch the exception but choosing not to do anything about it.\n",
    "- Types of Errors:\n",
    "    - SyntaxError: You gotta go back and solve this error. It is a mannual error that needs to be looked at.\n",
    "    - ValueError: The error is because of the value entered was not expected or in the correct format.\n",
    "    - NameError: The variable you are using is either not defined or used out of scope.\n",
    "    - AssesrtionError: This error is thrown when whatever expression is written using **assert** keyword becomes false."
   ]
  },
  {
   "cell_type": "code",
   "execution_count": 62,
   "metadata": {},
   "outputs": [
    {
     "name": "stdout",
     "output_type": "stream",
     "text": [
      "The value of x is not an integer.\n",
      "The value of x is not an integer.\n",
      "The value of x is not an integer.\n",
      "x is 3\n"
     ]
    }
   ],
   "source": [
    "while True:\n",
    "    try: \n",
    "        x = int(input(\"Enter x:\"))\n",
    "    except ValueError:\n",
    "        print(\"The value of x is not an integer.\")\n",
    "    else:\n",
    "        break\n",
    "    \n",
    "print(f\"x is {x}\")"
   ]
  },
  {
   "cell_type": "markdown",
   "metadata": {},
   "source": [
    "### 6. SOME IMP LIBRARIES \n",
    "\n",
    "1. Random\n",
    "2. Statistics\n",
    "3. math\n",
    "4. sys: sys.exit([arg])\n",
    "\n",
    "- if __name__ = \"__main__\":\n",
    "    main()\n",
    "    - What happens here is that when the file is getting executed directly, the variable __name__ is set to __main__ and hence the main function gets executed. Else, it doesn't get executed. "
   ]
  },
  {
   "cell_type": "code",
   "execution_count": 76,
   "metadata": {},
   "outputs": [
    {
     "name": "stdout",
     "output_type": "stream",
     "text": [
      "heads\n",
      "7\n",
      "['f', 'c', 'a', 'b', 'e', 'd']\n",
      "[80, 87, 31, 3, 52, 59, 24, 73, 66, 10, 17, 45, 94, 38]\n"
     ]
    }
   ],
   "source": [
    "#Use of the Random Module\n",
    "\n",
    "\n",
    "import random\n",
    "\n",
    "coin = random.choice([\"heads\", \"tails\"])\n",
    "print(coin)\n",
    "\n",
    "x = random.randint(3,8)\n",
    "print(x)\n",
    "\n",
    "l = ['a', 'b', 'c', 'd', 'e', 'f']\n",
    "# print(random.shuffle(l)), shuffle is an inplace function so it won't return anything.\n",
    "random.shuffle(l)\n",
    "print(l)\n",
    "\n",
    "l2 = list(range(3,100, 7))\n",
    "random.shuffle(l2)\n",
    "print(l2)"
   ]
  },
  {
   "cell_type": "code",
   "execution_count": 1,
   "metadata": {},
   "outputs": [
    {
     "name": "stdout",
     "output_type": "stream",
     "text": [
      "Collecting cowsayNote: you may need to restart the kernel to use updated packages.\n"
     ]
    },
    {
     "name": "stderr",
     "output_type": "stream",
     "text": [
      "\n",
      "[notice] A new release of pip is available: 24.3.1 -> 25.0\n",
      "[notice] To update, run: C:\\Users\\GARIMA\\AppData\\Local\\Microsoft\\WindowsApps\\PythonSoftwareFoundation.Python.3.10_qbz5n2kfra8p0\\python.exe -m pip install --upgrade pip\n"
     ]
    },
    {
     "name": "stdout",
     "output_type": "stream",
     "text": [
      "\n",
      "  Downloading cowsay-6.1-py3-none-any.whl.metadata (5.6 kB)\n",
      "Downloading cowsay-6.1-py3-none-any.whl (25 kB)\n",
      "Installing collected packages: cowsay\n",
      "Successfully installed cowsay-6.1\n"
     ]
    }
   ],
   "source": [
    "pip install cowsay"
   ]
  },
  {
   "cell_type": "code",
   "execution_count": 16,
   "metadata": {},
   "outputs": [
    {
     "name": "stdout",
     "output_type": "stream",
     "text": [
      "  _______________________\n",
      "| Suprabhat Shlokanumanas |\n",
      "  =======================\n",
      "                       \\\n",
      "                        \\\n",
      "                         \\\n",
      "                          \\\n",
      "                            /     \\_/         |\n",
      "                           |                 ||\n",
      "                           |                 ||\n",
      "                          |    ###\\  /###   | |\n",
      "                          |     0  \\/  0    | |\n",
      "                         /|                 | |\n",
      "                        / |        <        |\\ \\\n",
      "                       | /|                 | | |\n",
      "                       | |     \\_______/   |  | |\n",
      "                       | |                 | / /\n",
      "                       /||                 /|||\n",
      "                          ----------------|\n",
      "                               | |    | |\n",
      "                               ***    ***\n",
      "                              /___\\  /___\\\n"
     ]
    }
   ],
   "source": [
    "import cowsay\n",
    "\n",
    "cowsay.cheese(\"Suprabhat Shlokanumanas\")"
   ]
  },
  {
   "cell_type": "code",
   "execution_count": 12,
   "metadata": {},
   "outputs": [
    {
     "name": "stdout",
     "output_type": "stream",
     "text": [
      "  _________\n",
      "| OINK OINK |\n",
      "  =========\n",
      "         \\\n",
      "          \\\n",
      "           \\\n",
      "            \\\n",
      "                      ,.\n",
      "                     (_|,.\n",
      "                     ,' /, )_______   _\n",
      "                 __j o``-'        `.'-)'\n",
      "                 (\")                 \\'\n",
      "                 `-j                |\n",
      "                   `-._(           /\n",
      "                      |_\\  |--^.  /\n",
      "                     /_]'|_| /_)_/\n",
      "                         /_]'  /_]'\n"
     ]
    }
   ],
   "source": [
    "cowsay.pig(\"OINK OINK\")"
   ]
  },
  {
   "cell_type": "code",
   "execution_count": 34,
   "metadata": {},
   "outputs": [
    {
     "ename": "JSONDecodeError",
     "evalue": "Expecting value: line 3 column 1 (char 2)",
     "output_type": "error",
     "traceback": [
      "\u001b[1;31m---------------------------------------------------------------------------\u001b[0m",
      "\u001b[1;31mJSONDecodeError\u001b[0m                           Traceback (most recent call last)",
      "File \u001b[1;32m~\\AppData\\Local\\Packages\\PythonSoftwareFoundation.Python.3.10_qbz5n2kfra8p0\\LocalCache\\local-packages\\Python310\\site-packages\\requests\\models.py:971\u001b[0m, in \u001b[0;36mResponse.json\u001b[1;34m(self, **kwargs)\u001b[0m\n\u001b[0;32m    970\u001b[0m \u001b[38;5;28;01mtry\u001b[39;00m:\n\u001b[1;32m--> 971\u001b[0m     \u001b[38;5;28;01mreturn\u001b[39;00m complexjson\u001b[38;5;241m.\u001b[39mloads(\u001b[38;5;28mself\u001b[39m\u001b[38;5;241m.\u001b[39mtext, \u001b[38;5;241m*\u001b[39m\u001b[38;5;241m*\u001b[39mkwargs)\n\u001b[0;32m    972\u001b[0m \u001b[38;5;28;01mexcept\u001b[39;00m JSONDecodeError \u001b[38;5;28;01mas\u001b[39;00m e:\n\u001b[0;32m    973\u001b[0m     \u001b[38;5;66;03m# Catch JSON-related errors and raise as requests.JSONDecodeError\u001b[39;00m\n\u001b[0;32m    974\u001b[0m     \u001b[38;5;66;03m# This aliases json.JSONDecodeError and simplejson.JSONDecodeError\u001b[39;00m\n",
      "File \u001b[1;32mC:\\Program Files\\WindowsApps\\PythonSoftwareFoundation.Python.3.10_3.10.3056.0_x64__qbz5n2kfra8p0\\lib\\json\\__init__.py:346\u001b[0m, in \u001b[0;36mloads\u001b[1;34m(s, cls, object_hook, parse_float, parse_int, parse_constant, object_pairs_hook, **kw)\u001b[0m\n\u001b[0;32m    343\u001b[0m \u001b[38;5;28;01mif\u001b[39;00m (\u001b[38;5;28mcls\u001b[39m \u001b[38;5;129;01mis\u001b[39;00m \u001b[38;5;28;01mNone\u001b[39;00m \u001b[38;5;129;01mand\u001b[39;00m object_hook \u001b[38;5;129;01mis\u001b[39;00m \u001b[38;5;28;01mNone\u001b[39;00m \u001b[38;5;129;01mand\u001b[39;00m\n\u001b[0;32m    344\u001b[0m         parse_int \u001b[38;5;129;01mis\u001b[39;00m \u001b[38;5;28;01mNone\u001b[39;00m \u001b[38;5;129;01mand\u001b[39;00m parse_float \u001b[38;5;129;01mis\u001b[39;00m \u001b[38;5;28;01mNone\u001b[39;00m \u001b[38;5;129;01mand\u001b[39;00m\n\u001b[0;32m    345\u001b[0m         parse_constant \u001b[38;5;129;01mis\u001b[39;00m \u001b[38;5;28;01mNone\u001b[39;00m \u001b[38;5;129;01mand\u001b[39;00m object_pairs_hook \u001b[38;5;129;01mis\u001b[39;00m \u001b[38;5;28;01mNone\u001b[39;00m \u001b[38;5;129;01mand\u001b[39;00m \u001b[38;5;129;01mnot\u001b[39;00m kw):\n\u001b[1;32m--> 346\u001b[0m     \u001b[38;5;28;01mreturn\u001b[39;00m \u001b[43m_default_decoder\u001b[49m\u001b[38;5;241;43m.\u001b[39;49m\u001b[43mdecode\u001b[49m\u001b[43m(\u001b[49m\u001b[43ms\u001b[49m\u001b[43m)\u001b[49m\n\u001b[0;32m    347\u001b[0m \u001b[38;5;28;01mif\u001b[39;00m \u001b[38;5;28mcls\u001b[39m \u001b[38;5;129;01mis\u001b[39;00m \u001b[38;5;28;01mNone\u001b[39;00m:\n",
      "File \u001b[1;32mC:\\Program Files\\WindowsApps\\PythonSoftwareFoundation.Python.3.10_3.10.3056.0_x64__qbz5n2kfra8p0\\lib\\json\\decoder.py:337\u001b[0m, in \u001b[0;36mJSONDecoder.decode\u001b[1;34m(self, s, _w)\u001b[0m\n\u001b[0;32m    333\u001b[0m \u001b[38;5;250m\u001b[39m\u001b[38;5;124;03m\"\"\"Return the Python representation of ``s`` (a ``str`` instance\u001b[39;00m\n\u001b[0;32m    334\u001b[0m \u001b[38;5;124;03mcontaining a JSON document).\u001b[39;00m\n\u001b[0;32m    335\u001b[0m \n\u001b[0;32m    336\u001b[0m \u001b[38;5;124;03m\"\"\"\u001b[39;00m\n\u001b[1;32m--> 337\u001b[0m obj, end \u001b[38;5;241m=\u001b[39m \u001b[38;5;28;43mself\u001b[39;49m\u001b[38;5;241;43m.\u001b[39;49m\u001b[43mraw_decode\u001b[49m\u001b[43m(\u001b[49m\u001b[43ms\u001b[49m\u001b[43m,\u001b[49m\u001b[43m \u001b[49m\u001b[43midx\u001b[49m\u001b[38;5;241;43m=\u001b[39;49m\u001b[43m_w\u001b[49m\u001b[43m(\u001b[49m\u001b[43ms\u001b[49m\u001b[43m,\u001b[49m\u001b[43m \u001b[49m\u001b[38;5;241;43m0\u001b[39;49m\u001b[43m)\u001b[49m\u001b[38;5;241;43m.\u001b[39;49m\u001b[43mend\u001b[49m\u001b[43m(\u001b[49m\u001b[43m)\u001b[49m\u001b[43m)\u001b[49m\n\u001b[0;32m    338\u001b[0m end \u001b[38;5;241m=\u001b[39m _w(s, end)\u001b[38;5;241m.\u001b[39mend()\n",
      "File \u001b[1;32mC:\\Program Files\\WindowsApps\\PythonSoftwareFoundation.Python.3.10_3.10.3056.0_x64__qbz5n2kfra8p0\\lib\\json\\decoder.py:355\u001b[0m, in \u001b[0;36mJSONDecoder.raw_decode\u001b[1;34m(self, s, idx)\u001b[0m\n\u001b[0;32m    354\u001b[0m \u001b[38;5;28;01mexcept\u001b[39;00m \u001b[38;5;167;01mStopIteration\u001b[39;00m \u001b[38;5;28;01mas\u001b[39;00m err:\n\u001b[1;32m--> 355\u001b[0m     \u001b[38;5;28;01mraise\u001b[39;00m JSONDecodeError(\u001b[38;5;124m\"\u001b[39m\u001b[38;5;124mExpecting value\u001b[39m\u001b[38;5;124m\"\u001b[39m, s, err\u001b[38;5;241m.\u001b[39mvalue) \u001b[38;5;28;01mfrom\u001b[39;00m\u001b[38;5;250m \u001b[39m\u001b[38;5;28;01mNone\u001b[39;00m\n\u001b[0;32m    356\u001b[0m \u001b[38;5;28;01mreturn\u001b[39;00m obj, end\n",
      "\u001b[1;31mJSONDecodeError\u001b[0m: Expecting value: line 3 column 1 (char 2)",
      "\nDuring handling of the above exception, another exception occurred:\n",
      "\u001b[1;31mJSONDecodeError\u001b[0m                           Traceback (most recent call last)",
      "Cell \u001b[1;32mIn[34], line 5\u001b[0m\n\u001b[0;32m      1\u001b[0m \u001b[38;5;28;01mimport\u001b[39;00m\u001b[38;5;250m \u001b[39m\u001b[38;5;21;01mrequests\u001b[39;00m\n\u001b[0;32m      3\u001b[0m response \u001b[38;5;241m=\u001b[39m requests\u001b[38;5;241m.\u001b[39mget(\u001b[38;5;124m\"\u001b[39m\u001b[38;5;124mhttps://github.com/HanArima\u001b[39m\u001b[38;5;124m\"\u001b[39m)\n\u001b[1;32m----> 5\u001b[0m \u001b[38;5;28mprint\u001b[39m(\u001b[43mresponse\u001b[49m\u001b[38;5;241;43m.\u001b[39;49m\u001b[43mjson\u001b[49m\u001b[43m(\u001b[49m\u001b[43m)\u001b[49m)\n",
      "File \u001b[1;32m~\\AppData\\Local\\Packages\\PythonSoftwareFoundation.Python.3.10_qbz5n2kfra8p0\\LocalCache\\local-packages\\Python310\\site-packages\\requests\\models.py:975\u001b[0m, in \u001b[0;36mResponse.json\u001b[1;34m(self, **kwargs)\u001b[0m\n\u001b[0;32m    971\u001b[0m     \u001b[38;5;28;01mreturn\u001b[39;00m complexjson\u001b[38;5;241m.\u001b[39mloads(\u001b[38;5;28mself\u001b[39m\u001b[38;5;241m.\u001b[39mtext, \u001b[38;5;241m*\u001b[39m\u001b[38;5;241m*\u001b[39mkwargs)\n\u001b[0;32m    972\u001b[0m \u001b[38;5;28;01mexcept\u001b[39;00m JSONDecodeError \u001b[38;5;28;01mas\u001b[39;00m e:\n\u001b[0;32m    973\u001b[0m     \u001b[38;5;66;03m# Catch JSON-related errors and raise as requests.JSONDecodeError\u001b[39;00m\n\u001b[0;32m    974\u001b[0m     \u001b[38;5;66;03m# This aliases json.JSONDecodeError and simplejson.JSONDecodeError\u001b[39;00m\n\u001b[1;32m--> 975\u001b[0m     \u001b[38;5;28;01mraise\u001b[39;00m RequestsJSONDecodeError(e\u001b[38;5;241m.\u001b[39mmsg, e\u001b[38;5;241m.\u001b[39mdoc, e\u001b[38;5;241m.\u001b[39mpos)\n",
      "\u001b[1;31mJSONDecodeError\u001b[0m: Expecting value: line 3 column 1 (char 2)"
     ]
    }
   ],
   "source": [
    "import requests\n",
    "\n",
    "response = requests.get(\"https://github.com/HanArima\")\n",
    "\n",
    "print(response.json())"
   ]
  },
  {
   "cell_type": "markdown",
   "metadata": {},
   "source": [
    "### 7. Unit Tests\n",
    "\n",
    "- Unit Tets refers to testing individual units (functions) of your code.\n",
    "- Writing the files on your own might pose some difficulties yk thinking about all the test cases you might some etc.\n",
    "- pytest : It is a library that provides helps you automate the test file.\n",
    "    - You run your test file as **pytest name_of_the_file.py** and then it will automate your test files with try and Except automatically.\n",
    "    - each fucntion defined in the test file is one test.  If you wrote 4 functions, then there will be 4 tests to run.\n",
    "\n",
    "- Package: It has a folder that has mutliple modules inside it. To make any folder a package all you have to do is add an **__init__.py** file."
   ]
  },
  {
   "cell_type": "markdown",
   "metadata": {},
   "source": [
    "### 8. FILE I/O"
   ]
  },
  {
   "cell_type": "code",
   "execution_count": 45,
   "metadata": {},
   "outputs": [
    {
     "data": {
      "text/plain": [
       "\"\\nCharacter\\tMeaning\\n'r'\\topen for reading (default)\\n'w'\\topen for writing, truncating the file first\\n'x'\\tcreate a new file and open it for writing\\n'a'\\topen for writing, appending to the end of the file if it exists\\n'b'\\tbinary mode\\n't'\\ttext mode (default)\\n'+'\\topen a disk file for updating (reading and writing)\\n'U'\\tuniversal newline mode (deprecated)\\n\""
      ]
     },
     "execution_count": 45,
     "metadata": {},
     "output_type": "execute_result"
    }
   ],
   "source": [
    "name = input(\"What's your name?\")\n",
    "\n",
    "file = open(\"names.txt\", \"a\") # \"w\": Writes in the file, creates the file and recreates the file is already existing\n",
    "file.write(f\"{name}\\n\")\n",
    "file.close()\n",
    "\n",
    "'''\n",
    "Character\tMeaning\n",
    "'r'\topen for reading (default)\n",
    "'w'\topen for writing, truncating the file first\n",
    "'x'\tcreate a new file and open it for writing\n",
    "'a'\topen for writing, appending to the end of the file if it exists\n",
    "'b'\tbinary mode\n",
    "'t'\ttext mode (default)\n",
    "'+'\topen a disk file for updating (reading and writing)\n",
    "'U'\tuniversal newline mode (deprecated)\n",
    "'''"
   ]
  },
  {
   "cell_type": "code",
   "execution_count": 48,
   "metadata": {},
   "outputs": [
    {
     "name": "stdout",
     "output_type": "stream",
     "text": [
      "Harry\n",
      "\n",
      "Garima\n",
      "\n",
      "Meethoi\n",
      "\n",
      "Arti\n",
      "\n"
     ]
    }
   ],
   "source": [
    "with open(\"names.txt\", \"r\") as file:\n",
    "    lines = file.readlines()\n",
    "    for name in lines:\n",
    "        print(name )"
   ]
  },
  {
   "cell_type": "markdown",
   "metadata": {},
   "source": [
    "### 9. REGULAR EXPRESSIONS"
   ]
  },
  {
   "cell_type": "markdown",
   "metadata": {},
   "source": [
    "- In python we have a library named \"regular expression\" denoted by **re**\n",
    "- r before a string indicates that it is a raw string. It means that you should take the string as it is.\n",
    "- re.IGNORECASE,  re.MULTILINE, re.DOTALL\n",
    "- re.match: matches the start of the string\n",
    "- re.fullmatch: matches the start and the end of teh string\n",
    "- Pattern symbols\n",
    "\t\n",
    "1. \".\"\t    Any character (except newline character)\t\"he..o\"\t\n",
    "2. \"^\"\t    Starts with\t                                \"^hello\"\t\n",
    "3. \"$\"\t    Ends with\t                                \"planet$\"\t\n",
    "4. \"*\"\t    Zero or more occurrences\t                \"he.*o\"\t\n",
    "5. \"+\"\t    One or more occurrences\t                    \"he.+o\"\t\n",
    "6. \"?\"\t    Zero or one occurrences\t                    \"he.?o\"\t\n",
    "7. \"{}\"\t    Exactly the specified number of occurrences\t\"he.{2}o\"\t\n",
    "8. \"|\"\t    Either or\t                                \"falls|stays\"\n",
    "8.1. \"()\"   group a pattern                             \"(\\w+\\.)?\"\n",
    "9. \"[]\"     set of characters you want to include\n",
    "10. \"[^]\"   set of characters you don't want to include\n",
    "11. \\d      decimal digit\n",
    "12. \\D      not a decimal digit\n",
    "13. \\s      whitespace character\n",
    "14. \\S      not a whitespace character\n",
    "15. \\w      word character\n",
    "16. \\W      not a word character"
   ]
  },
  {
   "cell_type": "markdown",
   "metadata": {},
   "source": [
    "### := Walarus operator, allows you to assign a value and ask a boolean question at the same time.\n",
    "\n",
    "- used with if"
   ]
  },
  {
   "cell_type": "code",
   "execution_count": null,
   "metadata": {},
   "outputs": [
    {
     "name": "stdout",
     "output_type": "stream",
     "text": [
      "Valid\n"
     ]
    }
   ],
   "source": [
    "import re\n",
    "\n",
    "# re.search()\n",
    "\n",
    "def main():\n",
    "    vaid_email()\n",
    "\n",
    "def vaid_email():\n",
    "    email = input(\"Enter your Email: \")\n",
    "    \n",
    "    if re.search(r\".\\w+@(\\w+\\.)?(\\w+\\.)?(\\w+\\.)?\\w+\\.(com|in)$\", email):\n",
    "        print(\"Valid\")\n",
    "    else:\n",
    "        print(\"Invalid\")\n",
    "\n",
    "\n",
    "if __name__ == \"__main__\":\n",
    "    main()\n",
    "\n"
   ]
  },
  {
   "cell_type": "code",
   "execution_count": 51,
   "metadata": {},
   "outputs": [],
   "source": [
    "# re.match()"
   ]
  },
  {
   "cell_type": "code",
   "execution_count": 52,
   "metadata": {},
   "outputs": [],
   "source": [
    "# re.sub()"
   ]
  },
  {
   "cell_type": "code",
   "execution_count": null,
   "metadata": {},
   "outputs": [],
   "source": []
  }
 ],
 "metadata": {
  "kernelspec": {
   "display_name": "Python 3",
   "language": "python",
   "name": "python3"
  },
  "language_info": {
   "codemirror_mode": {
    "name": "ipython",
    "version": 3
   },
   "file_extension": ".py",
   "mimetype": "text/x-python",
   "name": "python",
   "nbconvert_exporter": "python",
   "pygments_lexer": "ipython3",
   "version": "3.10.11"
  }
 },
 "nbformat": 4,
 "nbformat_minor": 2
}
